{
 "cells": [
  {
   "cell_type": "markdown",
   "metadata": {},
   "source": [
    "# Stata"
   ]
  },
  {
   "cell_type": "code",
   "execution_count": 1,
   "metadata": {
    "tags": [
     "hide-input"
    ]
   },
   "outputs": [],
   "source": [
    "qui {\n",
    "    // ChatGPT wrote this script following a few instructions from me\n",
    "    * I'll indicate with `*` the points I edited for it to work\n",
    "    // Very impressive since this was a first iteration\n",
    "\n",
    "    clear\n",
    "\n",
    "    // Set the number of students and sessions\n",
    "    local nstudents 100\n",
    "    local nsessions 8\n",
    "\n",
    "    // Create an empty dataset\n",
    "    set obs 8\n",
    "    gen student_id = .\n",
    "    gen session = .\n",
    "    gen sbp = .\n",
    "    gen session_date = .\n",
    "\n",
    "    // Loop over each student\n",
    "    forvalues i = 1/`nstudents' {\n",
    "        // Generate data for each session for the current student\n",
    "        forvalues j = 1/`nsessions' {\n",
    "            // Generate student ID\n",
    "            replace student_id = `i'\n",
    "            \n",
    "            // Generate session\n",
    "            replace session = `j'\n",
    "            \n",
    "            // Generate simulated systolic blood pressure measurements\n",
    "            set seed `i'`j' // Set seed based on student and session\n",
    "            replace sbp = rnormal(120, 10)\n",
    "            \n",
    "            // Append data for the current session to the dataset\n",
    "            *append\n",
    "            *ChatGPT included the \"append\" command with no additional syntax\n",
    "        }\n",
    "        *I inserted this line of code\n",
    "        if c(os) == \"MacOSX\" {\n",
    "            save student`i', replace  \n",
    "        } \n",
    "        else {\n",
    "            save student`i', replace  \n",
    "        }   \n",
    "    }\n",
    "\n",
    "    * ChatGPT's contribution ends at this point\n",
    "\n",
    "    clear \n",
    "    forvalues i = 1/`nstudents' {\n",
    "        append using student`i'.dta\n",
    "        *Please understand what mess is wrought by blocking this \"rm\" line of code\n",
    "        rm student`i'.dta  \n",
    "    }\n",
    "\n",
    "    * Sort the dataset\n",
    "    sort student_id session\n",
    "\n",
    "    * Display the first few observations\n",
    "    list student_id session sbp in 1/10\n",
    "\n",
    "    * Not what we wanted\n",
    "    bys student_id: replace session = _n\n",
    "\n",
    "    * Let's include the dates\n",
    "    local session_date = d(28mar2024)\n",
    "    forvalues i = 1/8 {\n",
    "        replace session_date = `session_date' if session == `i'\n",
    "        local session_date = `session_date' + 7\n",
    "    }\n",
    "    format session_date %td\n",
    "    codebook \n",
    "    replace sbp = round(sbp)\n",
    "    if c(os) == \"MacOSX\" {\n",
    "        save student_pressure, replace\n",
    "    } \n",
    "    else {\n",
    "        save student_pressure, replace\n",
    "    } \n",
    "\n",
    "    count\n",
    "    capture isid student_id\n",
    "    if _rc != 0 {\n",
    "        di `\"Observations are nested within \"student_id\" \"'\n",
    "    } \n",
    "    else {\n",
    "        di `\"student_id\" uniquely identifies observations\"'\n",
    "    }\n",
    "}"
   ]
  },
  {
   "cell_type": "code",
   "execution_count": 2,
   "metadata": {},
   "outputs": [
    {
     "name": "stdout",
     "output_type": "stream",
     "text": [
      "\n",
      "file /Users/apollo/.stata_kernel_cache/graph0.svg saved as SVG format\n"
     ]
    },
    {
     "name": "stdout",
     "output_type": "stream",
     "text": [
      "file /Users/apollo/.stata_kernel_cache/graph0.pdf saved as PDF format\n"
     ]
    }
   ],
   "source": [
    "qui {\n",
    "    use student_pressure, clear\n",
    "    // Line plot of SBP over the 8-week period\n",
    "    twoway (scatter sbp session_date, sort jitter(9)) ///\n",
    "        , xtitle(\"Session Date\") ytitle(\"Systolic Blood Pressure\") ///\n",
    "        title(\"Systolic Blood Pressure Over 8 Weeks\") legend(off)\n",
    "    graph export stata.png, replace \n",
    "}"
   ]
  },
  {
   "cell_type": "markdown",
   "metadata": {},
   "source": [
    "![](stata.png)"
   ]
  },
  {
   "cell_type": "markdown",
   "metadata": {},
   "source": [
    "<iframe src=\"https://www.youtube.com/embed/mxS8YbA-Zyw\" style=\"width:100%; height:600px\"></iframe>"
   ]
  },
  {
   "cell_type": "markdown",
   "metadata": {},
   "source": [
    "### Perplexity.ai"
   ]
  },
  {
   "cell_type": "code",
   "execution_count": 3,
   "metadata": {},
   "outputs": [
    {
     "name": "stdout",
     "output_type": "stream",
     "text": [
      "\n",
      "(Patient survival in drug trial)\n"
     ]
    },
    {
     "name": "stdout",
     "output_type": "stream",
     "text": [
      "\n"
     ]
    }
   ],
   "source": [
    "use https://www.stata-press.com/data/r18/drugtr, clear\n",
    "qui stset studytime, failure(died)"
   ]
  },
  {
   "cell_type": "code",
   "execution_count": 4,
   "metadata": {},
   "outputs": [],
   "source": [
    "qui kdensity studytime if drug==0, addplot(kdensity studytime if drug==1)\n",
    "qui graph export pdf.png, replace "
   ]
  },
  {
   "cell_type": "markdown",
   "metadata": {},
   "source": [
    "![](pdf.png)"
   ]
  },
  {
   "cell_type": "code",
   "execution_count": 5,
   "metadata": {},
   "outputs": [
    {
     "name": "stdout",
     "output_type": "stream",
     "text": [
      "\n",
      "\n",
      "file surv.png written in PNG format\n"
     ]
    }
   ],
   "source": [
    "qui sts graph, by(drug)\n",
    "graph export surv.png, replace "
   ]
  },
  {
   "cell_type": "markdown",
   "metadata": {},
   "source": [
    "![](surv.png)"
   ]
  },
  {
   "cell_type": "code",
   "execution_count": 6,
   "metadata": {},
   "outputs": [
    {
     "name": "stdout",
     "output_type": "stream",
     "text": [
      "\n",
      "\n",
      "file haz.png written in PNG format\n"
     ]
    }
   ],
   "source": [
    "qui sts graph, by(drug) ha\n",
    "graph export haz.png, replace "
   ]
  },
  {
   "cell_type": "markdown",
   "metadata": {},
   "source": [
    "![](haz.png)"
   ]
  },
  {
   "cell_type": "code",
   "execution_count": 7,
   "metadata": {},
   "outputs": [],
   "source": [
    "qui stcox drug age"
   ]
  },
  {
   "cell_type": "code",
   "execution_count": 8,
   "metadata": {},
   "outputs": [],
   "source": [
    "qui estat phtest, detail"
   ]
  },
  {
   "cell_type": "code",
   "execution_count": 9,
   "metadata": {},
   "outputs": [],
   "source": [
    "qui stcox drug age, tvc(age)"
   ]
  },
  {
   "cell_type": "code",
   "execution_count": 10,
   "metadata": {},
   "outputs": [],
   "source": [
    "qui stcox drug age, tvc(age) texp(ln(_t))"
   ]
  },
  {
   "cell_type": "code",
   "execution_count": 11,
   "metadata": {},
   "outputs": [],
   "source": [
    "estimates store model1\n",
    "qui stcox drug age\n",
    "estimates store model2\n",
    "qui lrtest model1 model2"
   ]
  },
  {
   "cell_type": "code",
   "execution_count": 12,
   "metadata": {},
   "outputs": [
    {
     "name": "stdout",
     "output_type": "stream",
     "text": [
      "\n",
      "file /Users/apollo/.stata_kernel_cache/graph1.svg saved as SVG format\n"
     ]
    },
    {
     "name": "stdout",
     "output_type": "stream",
     "text": [
      "file /Users/apollo/.stata_kernel_cache/graph1.pdf saved as PDF format\n"
     ]
    }
   ],
   "source": [
    "qui {\n",
    "    predict hr, hr\n",
    "    twoway (line hr _t if drug==0) (line hr _t if drug==1), ///\n",
    "       legend(order(1 \"Control\" 2 \"Treatment\"))\n",
    "    qui graph export tvc.png, replace\n",
    "}"
   ]
  },
  {
   "cell_type": "markdown",
   "metadata": {},
   "source": [
    "![](tvc.png)"
   ]
  },
  {
   "cell_type": "code",
   "execution_count": 10,
   "metadata": {},
   "outputs": [
    {
     "name": "stdout",
     "output_type": "stream",
     "text": [
      "this post-estimation command is not allowed after estimation with tvc();\n",
      "see tvc note for an alternative to the tvc() option\n",
      "\n"
     ]
    }
   ],
   "source": []
  },
  {
   "cell_type": "markdown",
   "metadata": {},
   "source": [
    "To help build intuition around Cox regression with time interaction in Stata, I can provide some example code and explanations. Here's a step-by-step approach:\n",
    "\n",
    "1. Set up the data:\n",
    "\n",
    "```stata\n",
    "use https://www.stata-press.com/data/r18/drugtr, clear\n",
    "stset studytime, failure(died)\n",
    "```\n",
    "\n",
    "This loads a sample dataset about patient survival in a drug trial and sets up the survival-time data[5].\n",
    "\n",
    "2. Run a basic Cox model:\n",
    "\n",
    "```stata\n",
    "stcox drug age\n",
    "```\n",
    "\n",
    "This fits a simple Cox model with drug treatment and age as covariates[5].\n",
    "\n",
    "3. Add a time interaction for age:\n",
    "\n",
    "```stata\n",
    "stcox drug age, tvc(age)\n",
    "```\n",
    "\n",
    "This model includes a time-varying coefficient for age. The `tvc()` option specifies that age should interact with time[5].\n",
    "\n",
    "4. Interpret the results:\n",
    "\n",
    "The output will show coefficients for drug, age, and age interacted with time. If the interaction term is significant, it suggests the effect of age on hazard varies over time, potentially violating the proportional hazards assumption[5].\n",
    "\n",
    "5. Visualize the time-varying effect:\n",
    "\n",
    "```stata\n",
    "predict hr, hr\n",
    "twoway (line hr _t if drug==0) (line hr _t if drug==1), ///\n",
    "       legend(order(1 \"Control\" 2 \"Treatment\"))\n",
    "```\n",
    "\n",
    "This plots the predicted hazard ratios over time for both treatment groups[1].\n",
    "\n",
    "6. Test the proportional hazards assumption:\n",
    "\n",
    "```stata\n",
    "estat phtest, detail\n",
    "```\n",
    "\n",
    "This performs a formal test of the proportional hazards assumption[1].\n",
    "\n",
    "7. Explore different time functions:\n",
    "\n",
    "```stata\n",
    "stcox drug age, tvc(age) texp(ln(_t))\n",
    "```\n",
    "\n",
    "This uses a logarithmic function of time for the interaction. You can experiment with different functions to see how they affect the model[5].\n",
    "\n",
    "8. Compare models:\n",
    "\n",
    "```stata\n",
    "estimates store model1\n",
    "stcox drug age\n",
    "estimates store model2\n",
    "lrtest model1 model2\n",
    "```\n",
    "\n",
    "This compares the model with time interaction to the simpler model using a likelihood ratio test[2].\n",
    "\n",
    "By working through these steps, you can gain intuition about how time interactions work in Cox regression, how they affect model interpretation, and how to assess their importance. Remember that the choice of time function can significantly impact results, so it's important to consider the theoretical justification for any particular specification[1][5].\n",
    "\n",
    "Citations:               \n",
    "[1] http://pauldickman.com/video/interactions/interactions_stata.pdf\n",
    "[2] https://www.statalist.org/forums/forum/general-stata-discussion/general/638949-cox-regression-interaction-interpretation\n",
    "[3] https://www.youtube.com/watch?v=mxS8YbA-Zyw\n",
    "[4] https://www.stata.com/support/faqs/statistics/estimate-cox-model/\n",
    "[5] https://www.stata.com/manuals/ststcox.pdf"
   ]
  }
 ],
 "metadata": {
  "kernelspec": {
   "display_name": "Stata",
   "language": "stata",
   "name": "stata"
  },
  "language_info": {
   "codemirror_mode": "stata",
   "file_extension": ".do",
   "mimetype": "text/x-stata",
   "name": "stata",
   "version": "15.1"
  },
  "widgets": {
   "application/vnd.jupyter.widget-state+json": {
    "state": {},
    "version_major": 2,
    "version_minor": 0
   }
  }
 },
 "nbformat": 4,
 "nbformat_minor": 4
}