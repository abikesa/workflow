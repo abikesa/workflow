{
 "cells": [
  {
   "cell_type": "markdown",
   "id": "af7eb548",
   "metadata": {},
   "source": [
    "# Notebooks with MyST Markdown\n",
    "\n",
    "Jupyter Book also lets you write text-based notebooks using MyST Markdown.\n",
    "See [the Notebooks with MyST Markdown documentation](https://jupyterbook.org/file-types/myst-notebooks.html) for more detailed instructions.\n",
    "This page shows off a notebook written in MyST Markdown.\n",
    "\n",
    "## An example cell\n",
    "\n",
    "With MyST Markdown, you can define code cells with a directive like so:"
   ]
  },
  {
   "cell_type": "code",
   "execution_count": 1,
   "id": "9216781d",
   "metadata": {},
   "outputs": [
    {
     "name": "stdout",
     "output_type": "stream",
     "text": [
      "4\n"
     ]
    }
   ],
   "source": [
    "print(2 + 2)"
   ]
  },
  {
   "cell_type": "markdown",
   "id": "498d0f70",
   "metadata": {},
   "source": [
    "When your book is built, the contents of any `{code-cell}` blocks will be\n",
    "executed with your default Jupyter kernel, and their outputs will be displayed\n",
    "in-line with the rest of your content.\n",
    "\n",
    "```{seealso}\n",
    "Jupyter Book uses [Jupytext](https://jupytext.readthedocs.io/en/latest/) to convert text-based files to notebooks, and can support [many other text-based notebook files](https://jupyterbook.org/file-types/jupytext.html).\n",
    "```\n",
    "\n",
    "## Create a notebook with MyST Markdown\n",
    "\n",
    "MyST Markdown notebooks are defined by two things:\n",
    "\n",
    "1. YAML metadata that is needed to understand if / how it should convert text files to notebooks (including information about the kernel needed).\n",
    "   See the YAML at the top of this page for example.\n",
    "2. The presence of `{code-cell}` directives, which will be executed with your book.\n",
    "\n",
    "That's all that is needed to get started!\n",
    "\n",
    "## Quickly add YAML metadata for MyST Notebooks\n",
    "\n",
    "If you have a markdown file and you'd like to quickly add YAML metadata to it, so that Jupyter Book will treat it as a MyST Markdown Notebook, run the following command:\n",
    "\n",
    "```bash\n",
    "# User-defined inputs for abi/abikesa_jbb.sh; substantive edits on 08/14/2023:\n",
    "read -p \"Enter your GitHub username: \" GITHUB_USERNAME\n",
    "read -p \"Enter your GitHub repository name: \" REPO_NAME\n",
    "read -p \"Enter your email address: \" EMAIL_ADDRESS\n",
    "read -p \"Enter your root directory (e.g., ~/Dropbox/1f.ἡἔρις,κ/1.ontology): \" ROOT_DIR\n",
    "read -p \"Enter the name of the subdirectory to be built within the root directory: \" SUBDIR_NAME\n",
    "read -p \"Enter your commit statement: \" COMMIT_THIS\n",
    "\n",
    "# Build the book with Jupyter Book\n",
    "git config --local user.name \"$GITHUB_USERNAME\"\n",
    "git config --local user.email \"$EMAIL_ADDRESS\"\n",
    "\n",
    "cd \"$(eval echo $ROOT_DIR)\"\n",
    "\n",
    "# rm -rf $SUBDIR_NAME/_build; cuts runtimes by 90%+;\n",
    "# rm -rf $SUBDIR_NAME/_build\n",
    "# jb build $SUBDIR_NAME\n",
    "# rm -rf $REPO_NAME\n",
    "\n",
    "if [ -d \"$REPO_NAME\" ]; then\n",
    "  echo \"Directory $REPO_NAME already exists. Choose another directory or delete the existing one.\"\n",
    "  exit 1\n",
    "fi\n",
    "\n",
    "# Cloning\n",
    "git clone \"https://github.com/$GITHUB_USERNAME/$REPO_NAME.git\"\n",
    "if [ ! -d \"$REPO_NAME\" ]; then\n",
    "  echo \"Failed to clone the repository. Check your GitHub username, repository name, and permissions.\"\n",
    "  exit 1\n",
    "fi\n",
    "\n",
    "# Copy files from subdirectory to the current repository directory; restored $REPO_NAME!!!\n",
    "cp -r $SUBDIR_NAME/* $REPO_NAME\n",
    "cd $REPO_NAME\n",
    "\n",
    "git add ./*\n",
    "git commit -m \"$COMMIT_THIS\"\n",
    "git remote -v\n",
    "\n",
    "git remote set-url origin \"https://github.com/$GITHUB_USERNAME/$REPO_NAME.git\"\n",
    "git config --local user.name \"$GITHUB_USERNAME\"\n",
    "git config --local user.email \"$EMAIL_ADDRESS\"\n",
    "\n",
    "# Checkout the main branch\n",
    "git checkout main\n",
    "if [ $? -ne 0 ]; then\n",
    "  echo \"Failed to checkout the main branch. Make sure it exists in the repository.\"\n",
    "  exit 1\n",
    "fi\n",
    "\n",
    "# Pushing changes\n",
    "# git config pull.rebase true\n",
    "# git pull\n",
    "git push -u origin main\n",
    "if [ $? -ne 0 ]; then\n",
    "  echo \"Failed to push to the repository. Check your credentials and GitHub permissions.\"\n",
    "  exit 1\n",
    "fi\n",
    "\n",
    "ghp-import -n -p -f _build/html\n",
    "cd ..\n",
    "rm -rf $REPO_NAME\n",
    "echo \"Jupyter Book content updated and pushed to $GITHUB_USERNAME/$REPO_NAME repository!\"\n",
    "\n",
    "```"
   ]
  }
 ],
 "metadata": {
  "jupytext": {
   "formats": "md:myst",
   "text_representation": {
    "extension": ".md",
    "format_name": "myst",
    "format_version": 0.13,
    "jupytext_version": "1.11.5"
   }
  },
  "kernelspec": {
   "display_name": "Python 3",
   "language": "python",
   "name": "python3"
  },
  "language_info": {
   "codemirror_mode": {
    "name": "ipython",
    "version": 3
   },
   "file_extension": ".py",
   "mimetype": "text/x-python",
   "name": "python",
   "nbconvert_exporter": "python",
   "pygments_lexer": "ipython3",
   "version": "3.11.4"
  },
  "source_map": [
   13,
   25,
   27
  ]
 },
 "nbformat": 4,
 "nbformat_minor": 5
}