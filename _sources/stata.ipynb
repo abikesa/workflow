{
 "cells": [
  {
   "cell_type": "markdown",
   "metadata": {},
   "source": [
    "# Stata"
   ]
  },
  {
   "cell_type": "code",
   "execution_count": 2,
   "metadata": {
    "tags": [
     "hide-input"
    ]
   },
   "outputs": [],
   "source": [
    "qui {\n",
    "    // ChatGPT wrote this script following a few instructions from me\n",
    "    * I'll indicate with `*` the points I edited for it to work\n",
    "    // Very impressive since this was a first iteration\n",
    "\n",
    "    clear\n",
    "\n",
    "    // Set the number of students and sessions\n",
    "    local nstudents 100\n",
    "    local nsessions 8\n",
    "\n",
    "    // Create an empty dataset\n",
    "    set obs 8\n",
    "    gen student_id = .\n",
    "    gen session = .\n",
    "    gen sbp = .\n",
    "    gen session_date = .\n",
    "\n",
    "    // Loop over each student\n",
    "    forvalues i = 1/`nstudents' {\n",
    "        // Generate data for each session for the current student\n",
    "        forvalues j = 1/`nsessions' {\n",
    "            // Generate student ID\n",
    "            replace student_id = `i'\n",
    "            \n",
    "            // Generate session\n",
    "            replace session = `j'\n",
    "            \n",
    "            // Generate simulated systolic blood pressure measurements\n",
    "            set seed `i'`j' // Set seed based on student and session\n",
    "            replace sbp = rnormal(120, 10)\n",
    "            \n",
    "            // Append data for the current session to the dataset\n",
    "            *append\n",
    "            *ChatGPT included the \"append\" command with no additional syntax\n",
    "        }\n",
    "        *I inserted this line of code\n",
    "        if c(os) == \"MacOSX\" {\n",
    "            save student`i', replace  \n",
    "        } \n",
    "        else {\n",
    "            save student`i', replace  \n",
    "        }   \n",
    "    }\n",
    "\n",
    "    * ChatGPT's contribution ends at this point\n",
    "\n",
    "    clear \n",
    "    forvalues i = 1/`nstudents' {\n",
    "        append using student`i'.dta\n",
    "        *Please understand what mess is wrought by blocking this \"rm\" line of code\n",
    "        rm student`i'.dta  \n",
    "    }\n",
    "\n",
    "    * Sort the dataset\n",
    "    sort student_id session\n",
    "\n",
    "    * Display the first few observations\n",
    "    list student_id session sbp in 1/10\n",
    "\n",
    "    * Not what we wanted\n",
    "    bys student_id: replace session = _n\n",
    "\n",
    "    * Let's include the dates\n",
    "    local session_date = d(28mar2024)\n",
    "    forvalues i = 1/8 {\n",
    "        replace session_date = `session_date' if session == `i'\n",
    "        local session_date = `session_date' + 7\n",
    "    }\n",
    "    format session_date %td\n",
    "    codebook \n",
    "    replace sbp = round(sbp)\n",
    "    if c(os) == \"MacOSX\" {\n",
    "        save student_pressure, replace\n",
    "    } \n",
    "    else {\n",
    "        save student_pressure, replace\n",
    "    } \n",
    "\n",
    "    count\n",
    "    capture isid student_id\n",
    "    if _rc != 0 {\n",
    "        di `\"Observations are nested within \"student_id\" \"'\n",
    "    } \n",
    "    else {\n",
    "        di `\"student_id\" uniquely identifies observations\"'\n",
    "    }\n",
    "}"
   ]
  },
  {
   "cell_type": "code",
   "execution_count": 10,
   "metadata": {},
   "outputs": [],
   "source": [
    "qui {\n",
    "    use student_pressure, clear\n",
    "    // Line plot of SBP over the 8-week period\n",
    "    twoway (scatter sbp session_date, sort jitter(9)) ///\n",
    "        , xtitle(\"Session Date\") ytitle(\"Systolic Blood Pressure\") ///\n",
    "        title(\"Systolic Blood Pressure Over 8 Weeks\") legend(off)\n",
    "    graph export stata.png, replace \n",
    "}"
   ]
  },
  {
   "cell_type": "markdown",
   "metadata": {},
   "source": [
    "![](stata.png)"
   ]
  }
 ],
 "metadata": {
  "kernelspec": {
   "display_name": "Stata",
   "language": "stata",
   "name": "stata"
  },
  "language_info": {
   "codemirror_mode": "stata",
   "file_extension": ".do",
   "mimetype": "text/x-stata",
   "name": "stata",
   "version": "15.1"
  },
  "widgets": {
   "application/vnd.jupyter.widget-state+json": {
    "state": {},
    "version_major": 2,
    "version_minor": 0
   }
  }
 },
 "nbformat": 4,
 "nbformat_minor": 4
}
